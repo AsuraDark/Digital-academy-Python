{
 "cells": [
  {
   "cell_type": "markdown",
   "metadata": {},
   "source": [
    "# Задачи\n",
    "\n",
    "# 1. Последний с четными\n",
    " **Дано:** список (list) целых чисел (int).\n",
    " \n",
    " **Задание:** нужно найти сумму элементов с четными индексами (0-й, 2-й, 4-й итд), затем перемножить эту сумму и последний элемент исходного массива. \n",
    "\n",
    "     \n",
    " **Пример:**\n",
    " \n",
    "     elements = [0, 1, 2, 3, 4, 5], результат: 30\n",
    "     \n",
    "     elements = [1, 3, 5], результат: 30\n",
    " \n",
    "     elements = [] , результат: 0\n",
    " \n",
    " "
   ]
  },
  {
   "cell_type": "code",
   "execution_count": 8,
   "metadata": {},
   "outputs": [
    {
     "name": "stdout",
     "output_type": "stream",
     "text": [
      "elements = [0, 1, 2, 3, 4, 5], результат: 30\n"
     ]
    }
   ],
   "source": [
    "elements=[0,1,2,3,4,5]\n",
    "sum=0\n",
    "length=len(elements)\n",
    "p=0\n",
    "for i in range(length):\n",
    "    if(i%2==0):\n",
    "        sum+=i\n",
    "    if(i==length-1):\n",
    "        p=i*sum\n",
    "print(f'elements = {elements}, результат: {p}')\n"
   ]
  },
  {
   "cell_type": "markdown",
   "metadata": {},
   "source": [
    "# 2. Max-min\n",
    " **Дано:**  массив чисел (float или/и int).\n",
    " \n",
    " **Задание:**  нужно найти разницу между самым большим (максимум) и самым малым (минимум) элементом. Если список пуст, то результат равен 0 (ноль).\n",
    " \n",
    " Числа с плавающей точкой представлены в компьютерах как двоичная дробь. Результат проверяется с точностью до третьего знака, как ±0.001\n",
    "\n",
    "     \n",
    " **Пример:**\n",
    " \n",
    "     elements = [1, 2, 3], результат: 2\n",
    "     \n",
    "     elements = [5, -5], результат: 30\n",
    " \n",
    "     elements = [10.2, -2.2, 0, 1.1, 0.5], результат: 12.4\n",
    " \n",
    "     elements = [] , результат: 0\n",
    "     \n",
    " \n",
    " "
   ]
  },
  {
   "cell_type": "code",
   "execution_count": 21,
   "metadata": {},
   "outputs": [
    {
     "name": "stdout",
     "output_type": "stream",
     "text": [
      "elements = [0, 1, 2, 3, 4, 5], результат: 5\n",
      "elements = [10.2, -2.2, 0, 1.1, 0.5], результат: 12.400\n"
     ]
    }
   ],
   "source": [
    "elements=[0,1,2,3,4,5]\n",
    "raznost=0\n",
    "if(len(elements)==0):\n",
    "    raznost=0\n",
    "else:\n",
    "    maxelem=max(elements)\n",
    "    minelem=min(elements)\n",
    "    raznost=maxelem-minelem\n",
    "print(f'elements = {elements}, результат: {raznost}')\n",
    "elements1=[10.2, -2.2, 0, 1.1, 0.5]\n",
    "raznost1=0\n",
    "if(len(elements1)==0):\n",
    "    raznost=0\n",
    "else:\n",
    "    maxelem1=max(elements1)\n",
    "    minelem1=min(elements1)\n",
    "    raznost1=maxelem1-minelem1\n",
    "\n",
    "print(f'elements = {elements1}, результат: {raznost1:.3f}')"
   ]
  },
  {
   "cell_type": "markdown",
   "metadata": {},
   "source": [
    "# 3. Умная сортировка\n",
    " **Дано:**  кортеж (tuple) чисел.\n",
    " \n",
    " **Задание:**  необходимо отсортировать их, но отсортировать на основе абсолютных значений в возрастающем порядке. Для примера, последовательность (-20, -5, 10, 15) будет отсортирована следующим образом (-5, 10, 15, -20). Ваша функция должна возвращать список (list) или кортеж (tuple).\n",
    "\n",
    "     \n",
    " **Пример:**\n",
    " \n",
    "     elements = (-20, -5, 10, 15), результат: [-5, 10, 15, -20]\n",
    "     \n",
    "     elements = (1, 2, 3, 0), результат: [0, 1, 2, 3]\n",
    " \n",
    "     elements = (-1, -2, -3, 0), результат: [0, -1, -2, -3]\n",
    " \n",
    " "
   ]
  },
  {
   "cell_type": "code",
   "execution_count": 56,
   "metadata": {},
   "outputs": [
    {
     "name": "stdout",
     "output_type": "stream",
     "text": [
      "elements = [-20, -5, 10, 15], результат: [-5, 10, 15, -20]\n"
     ]
    }
   ],
   "source": [
    "elements = [-20, -5, 10, 15]\n",
    "\n",
    "def sort(oldelements):\n",
    "    elements=[*oldelements]\n",
    "    for i in range(len(elements)-1):\n",
    "        for j in range(i+1,len(elements)):\n",
    "            if abs(elements[i])>=abs(elements[j]):\n",
    "                elements[i],elements[j]=elements[j],elements[i]\n",
    "    return elements\n",
    "\n",
    "print(f'elements = {elements}, результат: {sort(elements)}')\n",
    "    "
   ]
  },
  {
   "cell_type": "markdown",
   "metadata": {},
   "source": [
    "# 4. [Junior] Медиана\n",
    " **Дано:**  кортеж или список чисел.\n",
    " \n",
    " **Задание:**  Медиана - это числовое значение, которое делит сортированый массив чисел на большую и меньшую половины. В сортированом массиве с нечетным числом элементов медиана - это число в середине массива. Для массива с четным числом элементов, где нет одного элемента точно посередине, медиана - это среднее значение двух чисел, находящихся в середине массива. В этой задаче дан непустой массив натуральных чисел. Вам необходимо найти медиану данного массива.\n",
    "\n",
    "     \n",
    " **Пример:**\n",
    " \n",
    "     elements = [1, 2, 3, 4, 5], результат: 3\n",
    "     \n",
    "     elements = [3, 1, 2, 5, 3], результат: 3\n",
    " \n",
    "     elements = [1, 300, 2, 200, 1], результат: 2\n",
    "     \n",
    "     elements = [3, 6, 20, 99, 10, 15], результат: 12.5\n",
    " \n",
    " "
   ]
  },
  {
   "cell_type": "code",
   "execution_count": 73,
   "metadata": {},
   "outputs": [
    {
     "name": "stdout",
     "output_type": "stream",
     "text": [
      "elements = [3, 6, 20, 99, 10, 15], результат: 12.5\n"
     ]
    }
   ],
   "source": [
    "elements = [3, 6, 20, 99, 10, 15]\n",
    "\n",
    "def mediana(oldelements):\n",
    "    mediana=0\n",
    "    elements=[*oldelements]\n",
    "    for i in range(len(elements)-1):\n",
    "        for j in range(i+1,len(elements)):\n",
    "            if elements[i]>=elements[j]:\n",
    "                elements[i],elements[j]=elements[j],elements[i]\n",
    "    if len(elements)%2==0:\n",
    "        mediana=(elements[len(elements)//2]+elements[len(elements)//2-1])/2\n",
    "    else:\n",
    "        mediana=elements[len(elements)/2-1]\n",
    "    return mediana\n",
    "\n",
    "print(f'elements = {elements}, результат: {mediana(elements)}')"
   ]
  },
  {
   "cell_type": "markdown",
   "metadata": {},
   "source": [
    "# [Junior+] 5. Полосатые слова\n",
    " **Дано:**  текст, как строка (str).\n",
    " \n",
    " **Задание:**  Наши Роботы никогда не упускают возможности, чтобы улучшить свои навыки в лингвистике. Сейчас они изучают английский алфавит и что с этим делать.\n",
    "\n",
    "Алфавит разделен на гласные и согласные буквы (да, мы разделили буквы, а не звуки).\n",
    "\n",
    "Гласные -- A E I O U Y\n",
    "\n",
    "Согласные -- B C D F G H J K L M N P Q R S T V W X Z\n",
    "\n",
    "Дан текст с разными словами и/или числами, которые разделены пробелами и знаками пунктуации. Числа не считаются за слова (также как и смесь букв и цифр). Необходимо подсчитать слова, в которых гласные буквы чередуются с согласными (полосатые слова), то есть в таких словах нет двух гласных или двух согласных букв подряд. Слова состоящие из одной буквы - не \"полосатые\" (не считайте их). Регистр букв не имеет значения.\n",
    "\n",
    "     \n",
    " **Пример:**\n",
    " \n",
    "     text = \"My name is ...\", результат: 3\n",
    "     \n",
    "     text = \"Hello world\", результат: 0\n",
    "     \n",
    "     text = \"A quantity of striped words.\", результат: 1\n",
    "     \n",
    "     text = \"Dog,cat,mouse,bird.Human.\", результат: 3\n"
   ]
  },
  {
   "cell_type": "code",
   "execution_count": 134,
   "metadata": {},
   "outputs": [
    {
     "name": "stdout",
     "output_type": "stream",
     "text": [
      "text = A quantity of striped words., результат: 1\n"
     ]
    }
   ],
   "source": [
    "text=\"A quantity of striped words.\"\n",
    "\n",
    "\n",
    "def sort(text):\n",
    "    count=0\n",
    "    polosat=0\n",
    "    str=text.upper()\n",
    "    \n",
    "    glasnue=['A', 'E', 'I', 'O', 'U', 'Y']\n",
    "    soglasnue=['B', 'C', 'D', 'F', 'G', 'H', 'J', 'K', 'L', 'M', 'N', 'P', 'Q', 'R', 'S', 'T', 'V', 'W', 'X', 'Z']\n",
    "    for word in str.split():\n",
    "        if word.isalpha() and len(word)>1:\n",
    "            count=0\n",
    "            for letter in range(len(word)-1):\n",
    "                for j in glasnue:\n",
    "                    if word[letter]==j:\n",
    "                        for k in soglasnue:\n",
    "                            if word[letter+1]==k:\n",
    "                                count+=1\n",
    "                for j in soglasnue: \n",
    "                    if word[letter]==j:\n",
    "                        for k in glasnue:\n",
    "                            if word[letter+1]==k:\n",
    "                                count+=1\n",
    "            if(count==len(word)-1):\n",
    "                polosat+=1\n",
    "    return polosat\n",
    "    \n",
    "print(f'text = {text}, результат: {sort(text)}')\n"
   ]
  }
 ],
 "metadata": {
  "kernelspec": {
   "display_name": "Python 3",
   "language": "python",
   "name": "python3"
  },
  "language_info": {
   "codemirror_mode": {
    "name": "ipython",
    "version": 3
   },
   "file_extension": ".py",
   "mimetype": "text/x-python",
   "name": "python",
   "nbconvert_exporter": "python",
   "pygments_lexer": "ipython3",
   "version": "3.11.0"
  },
  "vscode": {
   "interpreter": {
    "hash": "25423d7f7060fc7862a5c9f5e97399253f342c15cd22e8cf18dd2b84ee6c4cbb"
   }
  }
 },
 "nbformat": 4,
 "nbformat_minor": 4
}
