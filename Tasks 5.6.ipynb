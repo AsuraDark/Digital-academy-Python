{
 "cells": [
  {
   "cell_type": "markdown",
   "metadata": {},
   "source": [
    "## 5.6 Задачи\n"
   ]
  },
  {
   "cell_type": "markdown",
   "metadata": {},
   "source": [
    " ### 1. Fizz Buzz\n",
    "\n",
    " **Дано:** Число, как целочисленное (int).\n",
    " \n",
    " **Задание:** \n",
    "\n",
    "\"Fizz buzz\" это игра со словами, с помощью которой мы будем учить наших роботов делению. Давайте обучим компьютер.\n",
    "\n",
    "Вы должны написать программу, которая принимает положительное целое число и возвращает сл. значения.\n",
    "\n",
    "  1. \"Fizz Buzz\", если число делится на 3 и 5;\n",
    "  2. \"Fizz\", если число делится на 3;\n",
    "  3. \"Buzz\", если число делится на 5; \n",
    "\n",
    "Число, как строку для остальных случаев.\n",
    "     \n",
    " **Пример:**\n",
    " \n",
    "     x = 15, результат: \"Fizz Buzz\"\n",
    "     \n",
    "     x = 6, результат: \"Fizz\"     \n",
    " \n",
    "     x = 5, результат: \"Buzz\"   \n",
    "     \n",
    "     x = 7, результат: \"7\" \n"
   ]
  },
  {
   "cell_type": "code",
   "execution_count": 12,
   "metadata": {},
   "outputs": [
    {
     "name": "stdout",
     "output_type": "stream",
     "text": [
      "x=5, результат: Buzz \n"
     ]
    }
   ],
   "source": [
    "guess_value: str = input('Введите целое положительное число : ')\n",
    "x: int = int(guess_value)\n",
    "while(x<0):\n",
    "    print('Ошибка! Число отрицательное.')\n",
    "    guess_value = input('Введите целое положительное число : ')\n",
    "    x = int(guess_value)\n",
    "if x%3==0 and x%5==0:\n",
    "    print(f'x={x}, результат: Fizz Buzz')\n",
    "if x%3==0:\n",
    "    print(f'x={x}, результат: Fizz ')\n",
    "if x%5==0:\n",
    "    print(f'x={x}, результат: Buzz ')"
   ]
  },
  {
   "cell_type": "markdown",
   "metadata": {},
   "source": [
    "\n",
    " ### 2. Оценка числа\n",
    "\n",
    " **Дано:** Число x.\n",
    " \n",
    " **Задание:** нужно написать программу, которая дает оценку заданному значению, используя следующие правила.\n",
    " \n",
    "   1. если x нечетное, то это \"Плохо\"\n",
    "   2. если x = [2, 5] и четное, то это \"Неплохо\"\n",
    "   3. если x = [6, 20] и четное, то это \"Так себе\"\n",
    "   4. если x > 20 и четное, то это \"Отлично\"\n",
    "\n",
    "     \n",
    " **Пример:**\n",
    " \n",
    "     x = 15, результат: \"Плохо\"\n",
    "     \n",
    "     x = 4, результат: \"Неплохо\"     \n",
    " \n",
    "     x = 8, результат: \"Так себе\"   \n",
    "     \n",
    "     x = 24, результат: \"Отлично\" \n"
   ]
  },
  {
   "cell_type": "code",
   "execution_count": 13,
   "metadata": {},
   "outputs": [
    {
     "name": "stdout",
     "output_type": "stream",
     "text": [
      "x=5, результат: Плохо\n"
     ]
    }
   ],
   "source": [
    "guess_value: str = input('Введите число : ')\n",
    "x: int = int(guess_value)\n",
    "if x%2!=0:\n",
    "    print(f'x={x}, результат: Плохо')\n",
    "if 2<=x<=5 and x%2==0:\n",
    "    print(f'x={x}, результат: Неплохо')\n",
    "if 6<=x<=20 and x%2==0:\n",
    "    print(f'x={x}, результат: Так себе')\n",
    "if x>20 and x%2==0:\n",
    "    print(f'x={x}, результат: Отличное')"
   ]
  },
  {
   "cell_type": "markdown",
   "metadata": {},
   "source": [
    " \n",
    " \n",
    " ### 3. Последовательность\n",
    " \n",
    " **Дано:** Число N = [1-9].\n",
    " \n",
    " **Задание:** нужно написать программу, которая выведет последовательность 123..N\n",
    "\n",
    "     \n",
    " **Пример:**\n",
    " \n",
    "     N = 3, результат: 123\n",
    "     \n",
    "     N = 9, результат: 123456789     \n",
    " \n",
    "     x = 1, результат: 1\n"
   ]
  },
  {
   "cell_type": "code",
   "execution_count": 21,
   "metadata": {},
   "outputs": [
    {
     "name": "stdout",
     "output_type": "stream",
     "text": [
      "N=5, результат: 12345"
     ]
    }
   ],
   "source": [
    "guess_value: str = input('Введите число от 1 до 9: ')\n",
    "N: int = int(guess_value)\n",
    "while(N<1 and N>9):\n",
    "    print('Ошибка!')\n",
    "    guess_value = input('Введите число от 1 до 9: ')\n",
    "    N = int(guess_value)\n",
    "print(f'N={N}, результат: ',end='')\n",
    "for i in range(N+1):\n",
    "    if i>0:\n",
    "        print(i,end='')"
   ]
  },
  {
   "cell_type": "markdown",
   "metadata": {},
   "source": [
    " \n",
    " ### 4. Секретное сообщение\n",
    " \n",
    " \"Где умный человек прячет лист? В лесу. Но что если леса нет? ... Он выращивает лес и прячет его там.\"\n",
    "-- Гилберт Кит Честертон\n",
    "\n",
    "Когда-нибудь пробовали отправить секретное сообщение кому-то не пользуясь услугами почты? Вы можете использовать газету, чтобы рассказать кому-то свой секрет. Даже если кто-то найдет ваше сообщение, легко отмахнуться и сказать что это паранойя и теория заговора. Один из самых простых способов спрятать ваше секретное сообщение это использовать заглавные буквы. Давайте найдем несколько таких секретных сообщений.\n",
    "\n",
    "\n",
    " **Дано:** Дан кусок текста (str).\n",
    " \n",
    " **Задание:** Соберите все заглавные буквы в одно слово в том порядке как они встречаются в куске текста.\n",
    " Подсказка: посмотрите внимательно на методы класса str.\n",
    "     \n",
    " **Пример:**\n",
    " \n",
    "     текст = \"How are you? Eh, ok. Low or Lower? Ohhh.\", если мы соберем все заглавные буквы, то получим сообщение \"HELLO\".\n"
   ]
  },
  {
   "cell_type": "code",
   "execution_count": 5,
   "metadata": {},
   "outputs": [
    {
     "name": "stdout",
     "output_type": "stream",
     "text": [
      "Текст = \"How are you? Eh, ok. Low or Lower? Ohhh.\", если мы соберем все заглавные буквы, то получим сообщение HELLO.\n"
     ]
    }
   ],
   "source": [
    "letter='How are you? Eh, ok. Low or Lower? Ohhh.'\n",
    "letternew=''.join([i for i in letter if i == i.upper() and i.isalpha()])\n",
    "print(f'Текст = \"{letter}\", если мы соберем все заглавные буквы, то получим сообщение {letternew}.')"
   ]
  },
  {
   "cell_type": "markdown",
   "metadata": {},
   "source": [
    "     \n",
    "### [Junior] 5. Три слова\n",
    " \n",
    "Давайте научим наших роботов отличать слова от чисел.\n",
    "\n",
    "Дана строка со словами и числами, разделенными пробелами (один пробел между словами и/или числами). Слова состоят только из букв. \n",
    "\n",
    " **Дано:** Строка со словами (str).\n",
    " \n",
    " **Задание:** напишите программу, которая проверяет есть ли в исходной строке три слова подряд. Для примера, в строке \"start 5 one two three 7 end\" есть три слова подряд.\n",
    "     \n",
    " **Примеры:**\n",
    "   \n",
    "   text = \"Hello World hello\", результат: True\n",
    "   \n",
    "   text = \"He is 123 man\", результат: False\n",
    "   \n",
    "   text = \"1 2 3 4\", результат: False\n"
   ]
  },
  {
   "cell_type": "code",
   "execution_count": 6,
   "metadata": {},
   "outputs": [
    {
     "name": "stdout",
     "output_type": "stream",
     "text": [
      "text = Hello World hello, результат: True\n"
     ]
    }
   ],
   "source": [
    "def triple (words) :\n",
    "    count = 0\n",
    "    for word in words.split() :\n",
    "        if word.isalpha() :\n",
    "            count += 1\n",
    "            if count == 3 :\n",
    "               return True\n",
    "        else :\n",
    "            count = 0\n",
    "\n",
    "    return False\n",
    "\n",
    "words=input(\"Введите предложение:\")\n",
    "print(f'text = {words}, результат: {triple(words)}')"
   ]
  },
  {
   "cell_type": "markdown",
   "metadata": {},
   "source": [
    "\n",
    "### [Junior+] 6. Мир захватили левши\n",
    " \n",
    "На протяжении веков, левши страдали от дискриминации в мире, созданном для правшей.\" \n",
    "Santrock, John W. (2008). Motor, Sensory, and Perceptual Development.\n",
    "\n",
    "\"Большинство людей (70-95%) правши, меньшинство (5-30 %) левши, и неопределеное число людей вероятно лучше всего охарактеризовать, как \"симметричные\".\" \n",
    "Scientific American. www.scientificamerican.com\n",
    "\n",
    "Один робот был занят простой задачей: объединить последовательность строк в одно выражение для создания инструкции по обходу корабля. Но робот был левша и зачастую шутил и запутывал своих друзей правшей.\n",
    "\n",
    " **Дано:** последовательность строк.\n",
    " \n",
    " **Задание:** вы должны объединить эти строки в блок текста, разделив изначальные строки запятыми. В качестве шутки над праворукими роботами, вы должны заменить все вхождения слова \"right\" на слова \"left\", даже если это часть другого слова. Все строки даны в нижнем регистре.\n",
    "     \n",
    " **Примеры:**\n",
    "   \n",
    "   [\"left\", \"right\", \"left\", \"stop\"], результат: \"left,left,left,stop\"\n",
    "   \n",
    "   [\"bright aright\", \"ok\"], результат: \"bleft aleft,ok\"\n",
    "   \n",
    "   [\"enough\", \"jokes\"], результат: \"enough,jokes\"\n"
   ]
  },
  {
   "cell_type": "code",
   "execution_count": 8,
   "metadata": {},
   "outputs": [
    {
     "name": "stdout",
     "output_type": "stream",
     "text": [
      "['left', 'right', 'left', 'stop']\n",
      "left,left,left,stop\n"
     ]
    }
   ],
   "source": [
    "str=[\"left\", \"right\", \"left\", \"stop\"]\n",
    "print(str)\n",
    "newstr=','.join(str).replace('right','left')\n",
    "print(newstr)"
   ]
  }
 ],
 "metadata": {
  "kernelspec": {
   "display_name": "Python 3.11.0 64-bit",
   "language": "python",
   "name": "python3"
  },
  "language_info": {
   "codemirror_mode": {
    "name": "ipython",
    "version": 3
   },
   "file_extension": ".py",
   "mimetype": "text/x-python",
   "name": "python",
   "nbconvert_exporter": "python",
   "pygments_lexer": "ipython3",
   "version": "3.11.0"
  },
  "vscode": {
   "interpreter": {
    "hash": "25423d7f7060fc7862a5c9f5e97399253f342c15cd22e8cf18dd2b84ee6c4cbb"
   }
  }
 },
 "nbformat": 4,
 "nbformat_minor": 4
}
