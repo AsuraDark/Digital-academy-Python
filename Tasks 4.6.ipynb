{
 "cells": [
  {
   "cell_type": "markdown",
   "metadata": {},
   "source": [
    "## 4.6 Задачи\n",
    " ### 1. Среднее\n",
    " **Дано:** 3 случайных числа.\n",
    " \n",
    " **Задание:** написать программу, которая будет вычислять среднее значение этих чисел.\n",
    "     \n",
    " **Пример:**\n",
    "     (52 + 56 + 60) / 3 = 56"
   ]
  },
  {
   "cell_type": "code",
   "execution_count": 6,
   "metadata": {},
   "outputs": [
    {
     "name": "stdout",
     "output_type": "stream",
     "text": [
      "x = 96\n",
      "y = 54\n",
      "z = 70\n",
      "(x+y+z)/3 = 73.33333333333333\n"
     ]
    }
   ],
   "source": [
    "# Пример генерации случайных чисел.\n",
    "from random import randint\n",
    "\n",
    "x= randint(0,100)\n",
    "y= randint(0,100)\n",
    "z= randint(0,100)\n",
    "\n",
    "print('x =',x)\n",
    "print('y =',y)\n",
    "print('z =',z)\n",
    "\n",
    "sr=(x+y+z)/3\n",
    "print('(x+y+z)/3 =',sr)\n",
    "\n"
   ]
  },
  {
   "cell_type": "markdown",
   "metadata": {},
   "source": [
    " ### 2. Деление и еще раз деление\n",
    " **Дано:** 2 случайных числа.\n",
    " \n",
    " **Задание:** написать программу, которая будет печать результат целочисленного деления этих чисел, а также остаток от деления первого от второго.\n",
    "     \n",
    " **Пример:**\n",
    "     \n",
    "     x = 177 и y = 10\n",
    "    \n",
    "    Результат:\n",
    "     17, 7"
   ]
  },
  {
   "cell_type": "code",
   "execution_count": 8,
   "metadata": {},
   "outputs": [
    {
     "name": "stdout",
     "output_type": "stream",
     "text": [
      "Результат:\n",
      "17 , 6\n"
     ]
    }
   ],
   "source": [
    "x=177\n",
    "y=10\n",
    "print('Результат:')\n",
    "print(x//y,',',x%19)"
   ]
  },
  {
   "cell_type": "markdown",
   "metadata": {},
   "source": [
    " ### 3. Округление\n",
    " **Дано:** число с плавающей точкой.\n",
    " \n",
    " **Задание:** написать программу, которая будет округлять заданное число: \n",
    "\n",
    " 1) 2х знаков после запятой;\n",
    " 2) до целого;\n",
    " 3) дополнять слева столько нулей, сколько не хватает числу до 11 знаков.\n",
    "     \n",
    " **Пример:**\n",
    " \n",
    " x = 14.721\n",
    " \n",
    " 1) 14.72\n",
    " \n",
    " 2) 15\n",
    " \n",
    " 3) 0000014.721\n",
    " "
   ]
  },
  {
   "cell_type": "code",
   "execution_count": 9,
   "metadata": {},
   "outputs": [
    {
     "name": "stdout",
     "output_type": "stream",
     "text": [
      "14.72\n",
      "15\n",
      "0000014.721\n"
     ]
    }
   ],
   "source": [
    "float_number = 14.721\n",
    "print(f\"{float_number:.2f}\\n\"\n",
    "     f\"{round(float_number)}\\n\"\n",
    "     f\"{float_number:011}\")"
   ]
  },
  {
   "cell_type": "markdown",
   "metadata": {},
   "source": [
    " ### [Junior] 4. Число \"наоборот\"\n",
    " **Дано:** целое число (int).\n",
    " \n",
    " **Задание:** написать программу, которая будет инвертировать целое число\n",
    "     \n",
    " **Пример:**\n",
    " \n",
    " 1) x = 123 -> 321\n",
    " 2) x = -325 -> -523\n",
    " 3) x = 0 -> 0\n"
   ]
  },
  {
   "cell_type": "code",
   "execution_count": 43,
   "metadata": {},
   "outputs": [
    {
     "name": "stdout",
     "output_type": "stream",
     "text": [
      "\"Обратное\" ему число: -345\n"
     ]
    }
   ],
   "source": [
    "from ctypes import sizeof\n",
    "\n",
    "\n",
    "n1 = int(input(\"Введите целое число: \"))\n",
    "n2 = 0\n",
    "count=1\n",
    "\n",
    "if(n1<0):\n",
    "    n1=abs(n1)\n",
    "    count=-1\n",
    "\n",
    "while n1 > 0:\n",
    "    # находим остаток - последнюю цифру\n",
    "    digit = n1 % 10\n",
    "    # делим нацело - удаляем последнюю цифру\n",
    "    n1 = n1 // 10\n",
    "    # увеличиваем разрядность второго числа\n",
    "    n2 = n2 * 10\n",
    "    # добавляем очередную цифру\n",
    "    n2 = n2 + digit  \n",
    "n2*=count \n",
    "print('\"Обратное\" ему число:', n2)\n"
   ]
  },
  {
   "cell_type": "markdown",
   "metadata": {},
   "source": [
    " ### [Junior+] 5. Число \"наоборот\" (усложненное)\n",
    " **Дано:** целое число (int).\n",
    " \n",
    " **Задание:** написать программу, которая будет инвертировать целое число. Если инвертированное число выходит за границы (32-bit integer)\n",
    "     \n",
    " **Пример:**\n",
    " \n",
    " 1) x = 123 -> 321\n",
    " 2) x = -325 -> -523\n",
    " 3) x = 0 -> 0\n",
    " 4) x = 1563847412 -> 0\n"
   ]
  },
  {
   "cell_type": "code",
   "execution_count": 48,
   "metadata": {},
   "outputs": [
    {
     "name": "stdout",
     "output_type": "stream",
     "text": [
      "0\n"
     ]
    }
   ],
   "source": [
    "from ctypes import sizeof\n",
    "\n",
    "\n",
    "n1 = int(input(\"Введите целое число: \"))\n",
    "n2 = 0\n",
    "count=1\n",
    "if (n1.bit_length()<31):\n",
    "    if(n1<0):\n",
    "        n1=abs(n1)\n",
    "        count=-1\n",
    "\n",
    "    while n1 > 0:\n",
    "        # находим остаток - последнюю цифру\n",
    "        digit = n1 % 10\n",
    "        # делим нацело - удаляем последнюю цифру\n",
    "        n1 = n1 // 10\n",
    "        # увеличиваем разрядность второго числа\n",
    "        n2 = n2 * 10\n",
    "        # добавляем очередную цифру\n",
    "        n2 = n2 + digit  \n",
    "    n2*=count \n",
    "    print('\"Обратное\" ему число:', n2)\n",
    "else: print(0)\n"
   ]
  }
 ],
 "metadata": {
  "kernelspec": {
   "display_name": "Python 3.10.4 64-bit",
   "language": "python",
   "name": "python3"
  },
  "language_info": {
   "codemirror_mode": {
    "name": "ipython",
    "version": 3
   },
   "file_extension": ".py",
   "mimetype": "text/x-python",
   "name": "python",
   "nbconvert_exporter": "python",
   "pygments_lexer": "ipython3",
   "version": "3.10.4"
  },
  "vscode": {
   "interpreter": {
    "hash": "b9300bd8b9bbb9b5f1e5e72c116d1476b1dbb905d5e1157634872e84e9f1463e"
   }
  }
 },
 "nbformat": 4,
 "nbformat_minor": 4
}
