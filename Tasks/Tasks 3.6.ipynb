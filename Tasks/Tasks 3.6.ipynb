{
 "cells": [
  {
   "cell_type": "markdown",
   "metadata": {
    "pycharm": {
     "name": "#%% md\n"
    }
   },
   "source": [
    "## 3.6 Задачи\n",
    "### 1. Welcome to Python\n",
    " **Дано:** имя и фамилия.\n",
    " \n",
    " **Задание:** написать программу, которая будет приветствовать нового человека в мире Python.\n",
    "     Текст приветсвия: Hello **NAME SURNAME**! You just delved into Python. Great start!\n",
    "     \n",
    " **Пример:**\n",
    "     Hello Ibrahim Petrov! You just delved into Python. Great start!\n",
    "     thickness = 5\n",
    "\n",
    " \n",
    "                        "
   ]
  },
  {
   "cell_type": "raw",
   "metadata": {
    "pycharm": {
     "name": "#%% raw\n"
    }
   },
   "source": []
  },
  {
   "cell_type": "markdown",
   "metadata": {},
   "source": [
    "### 2. Python art\n",
    " **Дано:** маркер (символ) и толщина фигуры.\n",
    " \n",
    " **Задание:** написать программу, которая будет отображать заданную фигуру.\n",
    " \n",
    " **Пример:** Маркер = **C**, толщина **7**."
   ]
  },
  {
   "cell_type": "raw",
   "metadata": {},
   "source": [
    "if __name__ == \"__main__\":\n",
    "    #Символ и толщина\n",
    "    marker = 'C'\n",
    "    width = 7\n",
    "    #Рисуем стрелку сверху\n",
    "    [print(f\"{marker * (length + length - 1):^{width * 2}}\") for length in range(1, width + 1)]\n",
    "    #Рисуем Столбцы над мостом\n",
    "    [print(f\"{(marker * width):^{width * 2 - 1}}\"\n",
    "           f\"{' ' * (width * 2 + 1)}\"\n",
    "           f\"{(marker * width):^{width * 2 - 1}}\")\n",
    "     for length in range(1, width + 2)]\n",
    "    #Рисуем мост\n",
    "    [print(f\"{marker * (width * 5):^{width * 5 + width - 1}}\") for length in range(1, width - 1)]\n",
    "    #Рисуем Столбцы под мостом\n",
    "    [print(f\"{(marker * width):^{width * 2 - 1}}\"\n",
    "           f\"{' ' * (width * 2 + 1)}\"\n",
    "           f\"{(marker * width):^{width * 2 - 1}}\")\n",
    "     for length in range(1, width + 2)]\n",
    "    #Рисуем стрелку снизу\n",
    "    [print(f\"{' ' * (width * 5 - width)}\"\n",
    "           f\"{marker * (length + length - 1):^{width * 2}}\") for length in range(width, 0, -1)]\n",
    "\n"
   ]
  },
  {
   "cell_type": "code",
   "execution_count": 1,
   "metadata": {
    "pycharm": {
     "name": "#%%\n"
    }
   },
   "outputs": [
    {
     "ename": "AttributeError",
     "evalue": "'str' object has no attribute '______'",
     "output_type": "error",
     "traceback": [
      "\u001b[1;31m---------------------------------------------------------------------------\u001b[0m",
      "\u001b[1;31mAttributeError\u001b[0m                            Traceback (most recent call last)",
      "Cell \u001b[1;32mIn [1], line 6\u001b[0m\n\u001b[0;32m      4\u001b[0m \u001b[38;5;66;03m#Top Cone\u001b[39;00m\n\u001b[0;32m      5\u001b[0m \u001b[38;5;28;01mfor\u001b[39;00m i \u001b[38;5;129;01min\u001b[39;00m \u001b[38;5;28mrange\u001b[39m(thickness):\n\u001b[1;32m----> 6\u001b[0m     \u001b[38;5;28mprint\u001b[39m(\u001b[43m(\u001b[49m\u001b[43mc\u001b[49m\u001b[38;5;241;43m*\u001b[39;49m\u001b[43mi\u001b[49m\u001b[43m)\u001b[49m\u001b[38;5;241;43m.\u001b[39;49m\u001b[43m______\u001b[49m(thickness\u001b[38;5;241m-\u001b[39m\u001b[38;5;241m1\u001b[39m) \u001b[38;5;241m+\u001b[39m c \u001b[38;5;241m+\u001b[39m (c\u001b[38;5;241m*\u001b[39mi)\u001b[38;5;241m.\u001b[39m______(thickness\u001b[38;5;241m-\u001b[39m\u001b[38;5;241m1\u001b[39m))\n\u001b[0;32m      8\u001b[0m \u001b[38;5;66;03m#Top Pillars\u001b[39;00m\n\u001b[0;32m      9\u001b[0m \u001b[38;5;28;01mfor\u001b[39;00m i \u001b[38;5;129;01min\u001b[39;00m \u001b[38;5;28mrange\u001b[39m(thickness\u001b[38;5;241m+\u001b[39m\u001b[38;5;241m1\u001b[39m):\n",
      "\u001b[1;31mAttributeError\u001b[0m: 'str' object has no attribute '______'"
     ]
    }
   ],
   "source": [
    "thickness = 5\n",
    "c = 'H'\n",
    "\n",
    "#Top Cone\n",
    "for i in range(thickness):\n",
    "    print((c*i).______(thickness-1) + c + (c*i).______(thickness-1))\n",
    "\n",
    "#Top Pillars\n",
    "for i in range(thickness+1):\n",
    "    print((c*thickness).______(thickness*2) + (c*thickness).______(thickness*6))\n",
    "\n",
    "#Middle Belt\n",
    "for i in range((thickness+1)//2):\n",
    "    print((c*thickness*5).______(thickness*6))    \n",
    "\n",
    "#Bottom Pillars\n",
    "for i in range(thickness+1):\n",
    "    print((c*thickness).______(thickness*2) + (c*thickness).______(thickness*6))    \n",
    "\n",
    "#Bottom Cone\n",
    "for i in range(thickness):\n",
    "    print(((c*(thickness-i-1)).______(thickness) + c + (c*(thickness-i-1)).______(thickness)).______(thickness*6))  "
   ]
  },
  {
   "cell_type": "markdown",
   "metadata": {
    "pycharm": {
     "name": "#%% md\n"
    }
   },
   "source": [
    " ### 3. Заголовок\n",
    " **Дано:** текст любой длины.\n",
    " \n",
    " **Задание:** написать программу, которая выведет заголовок, используя заданный текст.\n",
    " Подсказка используйте метод **title**.\n",
    " \n",
    " **Пример:** text = 'hello world'; результат = Hello World\n",
    " \n",
    " ### 4. Форматированный вывод денежной суммы\n",
    " **Дано:** денежная сумма (amount > 0).\n",
    " \n",
    " **Задание:** написать программу, которая распечатает число в принятом денежном формате **XXX,XXX.XX**.\n",
    " \n",
    " \n",
    " **Пример:** amount = 100500.157; результат = 100,500.16\n",
    " \n",
    " ### [Junior] 5. Дизайнер ковриков\n",
    " Дизайнер составил шаблон домашних ковриков. Для массового выпуска ковриков ему нужно уметь быстро составлять макет произвольного размера. Известно, что длина коврика всегда больше в 3 раза чем его ширина (**W = 3 * H**).\n",
    " \n",
    " **Дано:** ширина коврика.\n",
    " \n",
    " **Задание:** написать программу, которая будет составлять макет коврика для его дальнейшего производства.\n",
    " \n",
    " **Примеры:** "
   ]
  },
  {
   "cell_type": "raw",
   "metadata": {
    "pycharm": {
     "name": "#%% raw\n"
    }
   },
   "source": [
    "    Size: 7 x 21 \n",
    "    ---------.|.---------\n",
    "    ------.|..|..|.------\n",
    "    ---.|..|..|..|..|.---\n",
    "    -------WELCOME-------\n",
    "    ---.|..|..|..|..|.---\n",
    "    ------.|..|..|.------\n",
    "    ---------.|.---------\n",
    "    \n",
    "    Size: 11 x 33\n",
    "    ---------------.|.---------------\n",
    "    ------------.|..|..|.------------\n",
    "    ---------.|..|..|..|..|.---------\n",
    "    ------.|..|..|..|..|..|..|.------\n",
    "    ---.|..|..|..|..|..|..|..|..|.---\n",
    "    -------------WELCOME-------------\n",
    "    ---.|..|..|..|..|..|..|..|..|.---\n",
    "    ------.|..|..|..|..|..|..|.------\n",
    "    ---------.|..|..|..|..|.---------\n",
    "    ------------.|..|..|.------------\n",
    "    ---------------.|.---------------"
   ]
  },
  {
   "cell_type": "markdown",
   "metadata": {
    "pycharm": {
     "name": "#%% md\n"
    }
   },
   "source": [
    " ### [Junior+] 6. Произведение цифр\n",
    " **Дано:** целое число.\n",
    " \n",
    " **Задание:** написать программу, которая перемножит все цифры заданного числа (0 - исключить).\n",
    " \n",
    " \n",
    " **Примеры:** \n",
    " 1) value = 123405, результат = 120\n",
    " 2) value = 999, результат = 729\n",
    " 3) value = 1000, результат = 1\n",
    " 4) value = 1111, результат = 1"
   ]
  },
  {
   "cell_type": "markdown",
   "metadata": {
    "pycharm": {
     "name": "#%% md\n"
    }
   },
   "source": [
    "### Решение задания №2"
   ]
  },
  {
   "cell_type": "code",
   "execution_count": null,
   "metadata": {
    "collapsed": true,
    "jupyter": {
     "outputs_hidden": true
    },
    "pycharm": {
     "name": "#%%\n"
    }
   },
   "outputs": [],
   "source": [
    "thickness = 5\n",
    "c = 'H'\n",
    "\n",
    "#Top Cone\n",
    "for i in range(thickness):\n",
    "    print((c*i).rjust(thickness-1) + c + (c*i).ljust(thickness-1))\n",
    "\n",
    "#Top Pillars\n",
    "for i in range(thickness+1):\n",
    "    print((c*thickness).center(thickness*2) + (c*thickness).center(thickness*6))\n",
    "\n",
    "#Middle Belt\n",
    "for i in range((thickness+1)//2):\n",
    "    print((c*thickness*5).center(thickness*6))    \n",
    "\n",
    "#Bottom Pillars\n",
    "for i in range(thickness+1):\n",
    "    print((c*thickness).center(thickness*2) + (c*thickness).center(thickness*6))    \n",
    "\n",
    "#Bottom Cone\n",
    "for i in range(thickness):\n",
    "    print(((c*(thickness-i-1)).rjust(thickness) + c + (c*(thickness-i-1)).ljust(thickness)).rjust(thickness*6))  "
   ]
  },
  {
   "cell_type": "markdown",
   "metadata": {
    "pycharm": {
     "name": "#%% md\n"
    }
   },
   "source": [
    "### Решение задания №5"
   ]
  },
  {
   "cell_type": "code",
   "execution_count": null,
   "metadata": {
    "pycharm": {
     "name": "#%%\n"
    }
   },
   "outputs": [],
   "source": [
    "height = 11\n",
    "width = height * 3\n",
    "\n",
    "for stick_count in range(1, height, 2):\n",
    "    print(('.|.' * stick_count).center(width, '-'))\n",
    "\n",
    "print('WELCOME'.center(width, '-'))\n",
    "\n",
    "for stick_count in range(height-2, 0, -2):\n",
    "    print(('.|.' * stick_count).center(width, '-'))\n"
   ]
  }
 ],
 "metadata": {
  "interpreter": {
   "hash": "b9300bd8b9bbb9b5f1e5e72c116d1476b1dbb905d5e1157634872e84e9f1463e"
  },
  "kernelspec": {
   "display_name": "Python 3.10.4 64-bit",
   "language": "python",
   "name": "python3"
  },
  "language_info": {
   "codemirror_mode": {
    "name": "ipython",
    "version": 3
   },
   "file_extension": ".py",
   "mimetype": "text/x-python",
   "name": "python",
   "nbconvert_exporter": "python",
   "pygments_lexer": "ipython3",
   "version": "3.10.4"
  }
 },
 "nbformat": 4,
 "nbformat_minor": 4
}
