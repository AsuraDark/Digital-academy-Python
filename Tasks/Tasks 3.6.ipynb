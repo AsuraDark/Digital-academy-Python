{
 "cells": [
  {
   "cell_type": "markdown",
   "metadata": {
    "pycharm": {
     "name": "#%% md\n"
    }
   },
   "source": [
    "## 3.6 Задачи\n",
    "### 1. Welcome to Python\n",
    " **Дано:** имя и фамилия.\n",
    " \n",
    " **Задание:** написать программу, которая будет приветствовать нового человека в мире Python.\n",
    "     Текст приветсвия: Hello **NAME SURNAME**! You just delved into Python. Great start!\n",
    "     \n",
    " **Пример:**\n",
    "     Hello Ibrahim Petrov! You just delved into Python. Great start!\n",
    "     thickness = 5\n",
    "\n",
    " \n",
    "                        "
   ]
  },
  {
   "cell_type": "code",
   "execution_count": null,
   "metadata": {
    "pycharm": {
     "name": "#%% raw\n"
    }
   },
   "outputs": [],
   "source": [
    "Name = 'Ruslan'\n",
    "Surname = 'Habirov'\n",
    "print('Hello', Name, Surname, end='! ')\n",
    "print(\"You just delved into Python. Great start!\")\n"
   ]
  },
  {
   "cell_type": "markdown",
   "metadata": {},
   "source": [
    "### 2. Python art\n",
    " **Дано:** маркер (символ) и толщина фигуры.\n",
    " \n",
    " **Задание:** написать программу, которая будет отображать заданную фигуру.\n",
    " \n",
    " **Пример:** Маркер = **C**, толщина **7**."
   ]
  },
  {
   "cell_type": "code",
   "execution_count": null,
   "metadata": {},
   "outputs": [],
   "source": [
    "if __name__ == \"__main__\":\n",
    "    #Символ и толщина\n",
    "    marker = 'C'\n",
    "    width = 7\n",
    "    #Рисуем стрелку сверху\n",
    "    [print(f\"{marker * (length + length - 1):^{width * 2}}\") for length in range(1, width + 1)]\n",
    "    #Рисуем Столбцы над мостом\n",
    "    [print(f\"{(marker * width):^{width * 2 - 1}}\"\n",
    "           f\"{' ' * (width * 2 + 1)}\"\n",
    "           f\"{(marker * width):^{width * 2 - 1}}\")\n",
    "     for length in range(1, width + 2)]\n",
    "    #Рисуем мост\n",
    "    [print(f\"{marker * (width * 5):^{width * 5 + width - 1}}\") for length in range(1, width - 1)]\n",
    "    #Рисуем Столбцы под мостом\n",
    "    [print(f\"{(marker * width):^{width * 2 - 1}}\"\n",
    "           f\"{' ' * (width * 2 + 1)}\"\n",
    "           f\"{(marker * width):^{width * 2 - 1}}\")\n",
    "     for length in range(1, width + 2)]\n",
    "    #Рисуем стрелку снизу\n",
    "    [print(f\"{' ' * (width * 5 - width)}\"\n",
    "           f\"{marker * (length + length - 1):^{width * 2}}\") for length in range(width, 0, -1)]\n",
    "\n"
   ]
  },
  {
   "cell_type": "markdown",
   "metadata": {},
   "source": [
    " ### 3. Заголовок\n",
    " **Дано:** текст любой длины.\n",
    " **Задание:** написать программу, которая выведет заголовок, используя заданный текст.\n",
    " Подсказка используйте метод **title**.\n",
    " \n",
    " **Пример:** text = 'hello world'; результат = Hello World"
   ]
  },
  {
   "cell_type": "code",
   "execution_count": 6,
   "metadata": {},
   "outputs": [
    {
     "name": "stdout",
     "output_type": "stream",
     "text": [
      "Hello World\n"
     ]
    }
   ],
   "source": [
    "str='hello world'\n",
    "print(f\"{str.title()}\")"
   ]
  },
  {
   "cell_type": "markdown",
   "metadata": {},
   "source": [
    " ### 4. Форматированный вывод денежной суммы\n",
    " **Дано:** денежная сумма (amount > 0).\n",
    " \n",
    " **Задание:** написать программу, которая распечатает число в принятом денежном формате **XXX,XXX.XX**.\n",
    " \n",
    " \n",
    " **Пример:** amount = 100500.157; результат = 100,500.16\n",
    " "
   ]
  },
  {
   "cell_type": "code",
   "execution_count": 7,
   "metadata": {},
   "outputs": [
    {
     "name": "stdout",
     "output_type": "stream",
     "text": [
      "100,500.16\n"
     ]
    }
   ],
   "source": [
    "amount = 100500.157\n",
    "print('{:,.2f}'.format(amount))"
   ]
  },
  {
   "cell_type": "markdown",
   "metadata": {},
   "source": [
    " ### [Junior] 5. Дизайнер ковриков\n",
    " Дизайнер составил шаблон домашних ковриков. Для массового выпуска ковриков ему нужно уметь быстро составлять макет произвольного размера. Известно, что длина коврика всегда больше в 3 раза чем его ширина (**W = 3 * H**).\n",
    " \n",
    " **Дано:** ширина коврика.\n",
    " \n",
    " **Задание:** написать программу, которая будет составлять макет коврика для его дальнейшего производства.\n",
    " \n",
    " **Примеры:** "
   ]
  },
  {
   "cell_type": "code",
   "execution_count": 56,
   "metadata": {},
   "outputs": [
    {
     "name": "stdout",
     "output_type": "stream",
     "text": [
      "----------------^----------------\n",
      "---------------^^^---------------\n",
      "--------------^^^^^--------------\n",
      "-------------^^^^^^^-------------\n",
      "------------^^^^^^^^^------------\n",
      "---------HAPPY NEW YEAR!---------\n",
      "-----------^^^^^^^^^^^-----------\n",
      "----------^^^^^^^^^^^^^----------\n",
      "---------^^^^^^^^^^^^^^^---------\n",
      "--------^^^^^^^^^^^^^^^^^--------\n",
      "-------^^^^^^^^^^^^^^^^^^^-------\n",
      "------^^^^^^^^^^^^^^^^^^^^^------\n"
     ]
    }
   ],
   "source": [
    "height = 11\n",
    "width = height * 3\n",
    "\n",
    "for stick_count in range(1, height*2, 2):\n",
    "    if(stick_count==height):\n",
    "        print(('HAPPY NEW YEAR!').center(width, '-'))\n",
    "    print(('^' * stick_count).center(width, '-'))\n",
    "\n",
    "\n",
    "\n"
   ]
  },
  {
   "cell_type": "markdown",
   "metadata": {
    "pycharm": {
     "name": "#%% md\n"
    }
   },
   "source": [
    " ### [Junior+] 6. Произведение цифр\n",
    " **Дано:** целое число.\n",
    " \n",
    " **Задание:** написать программу, которая перемножит все цифры заданного числа (0 - исключить).\n",
    " \n",
    " \n",
    " **Примеры:** \n",
    " 1) value = 123405, результат = 120\n",
    " 2) value = 999, результат = 729\n",
    " 3) value = 1000, результат = 1\n",
    " 4) value = 1111, результат = 1"
   ]
  },
  {
   "cell_type": "code",
   "execution_count": 12,
   "metadata": {},
   "outputs": [
    {
     "name": "stdout",
     "output_type": "stream",
     "text": [
      "Произведение цифр равно:  1\n"
     ]
    }
   ],
   "source": [
    "num = int(input(\"Введите целое: \"))\n",
    "mult = 1\n",
    "while (num != 0):\n",
    "    if(num%10!=0):\n",
    "        mult = mult * (num % 10)\n",
    "        num = num // 10\n",
    "    num=num//10\n",
    "print(\"Произведение цифр равно: \", mult)"
   ]
  }
 ],
 "metadata": {
  "interpreter": {
   "hash": "b9300bd8b9bbb9b5f1e5e72c116d1476b1dbb905d5e1157634872e84e9f1463e"
  },
  "kernelspec": {
   "display_name": "Python 3.10.4 64-bit",
   "language": "python",
   "name": "python3"
  },
  "language_info": {
   "codemirror_mode": {
    "name": "ipython",
    "version": 3
   },
   "file_extension": ".py",
   "mimetype": "text/x-python",
   "name": "python",
   "nbconvert_exporter": "python",
   "pygments_lexer": "ipython3",
   "version": "3.10.4"
  }
 },
 "nbformat": 4,
 "nbformat_minor": 4
}
