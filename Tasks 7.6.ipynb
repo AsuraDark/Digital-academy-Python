{
 "cells": [
  {
   "cell_type": "markdown",
   "metadata": {},
   "source": [
    "# Задачи\n",
    "\n",
    "## 1. Анализ текста. Популярность.\n",
    " **Дано:** текст (str).\n",
    " \n",
    " **Задание:** необходимо получить 2 словаря (популярности слов и популярности букв). \n",
    " \n",
    " **Пример:**\n",
    " \n",
    "     text = \"hello, word of word\", результат: \n",
    "         chars_popularity = {'h': 1, 'e': 1, 'l': 2, ..};\n",
    "         words_popularity = {'hello': 1, 'word': 2, 'of': 1}\n",
    "     \n",
    "     \n"
   ]
  },
  {
   "cell_type": "code",
   "execution_count": 1,
   "metadata": {},
   "outputs": [
    {
     "name": "stdout",
     "output_type": "stream",
     "text": [
      "text = hello, word of word, результат:\n",
      "\tchars_popularity = {'h': 1, 'e': 1, 'l': 2, 'o': 4, 'w': 2, 'r': 2, 'd': 2, 'f': 1};\n",
      "\twords_popularity = {'hello': 1, 'word': 2, 'of': 1}\n"
     ]
    }
   ],
   "source": [
    "text = \"hello, word of word\"\n",
    "chars_popularity = {\n",
    "    'h':1,\n",
    "    'e':1,\n",
    "    'l':2,\n",
    "    'o':4,\n",
    "    'w':2,\n",
    "    'r':2,\n",
    "    'd':2,\n",
    "    'f':1\n",
    "}\n",
    "words_popularity = {\n",
    "    'hello': 1,\n",
    "    'word': 2, \n",
    "    'of': 1\n",
    "}\n",
    "print(f'text = {text}, результат:\\n\\tchars_popularity = {chars_popularity};\\n\\twords_popularity = {words_popularity}')"
   ]
  },
  {
   "cell_type": "markdown",
   "metadata": {},
   "source": [
    "## 2. Римские цифры\n",
    " **Дано:** целое число (int).\n",
    " \n",
    " **Задание:** Римские цифры пришли к нам из древней римской системы счета. Они основаны на особых буквах алфавита, которые в различных сочетаниях, путем суммирования (а иногда и разницы) описывают различные числа. Первые 10 римских чисел это:\n",
    "\n",
    "I, II, III, IV, V, VI, VII, VIII, IX, and X.\n",
    "\n",
    "Римская система счета имеет десятичное основание, но она непозиционная и не включает в себя 0 (ноль). Римские числа образуются путем комбинации следующих семи символов:\n",
    "\n",
    "Символ\tЗначение\n",
    "I\t1 (unus)\n",
    "V\t5 (quinque)\n",
    "X\t10 (decem)\n",
    "L\t50 (quinquaginta)\n",
    "C\t100 (centum)\n",
    "D\t500 (quingenti)\n",
    "M\t1,000 (mille)\n",
    "Узнать больше о римских цифрах вы можете в статье на Википедии.\n",
    "\n",
    "В этой задаче, вам необходимо преобразовать данное целое число (от 1 до 3999) в римскую систему счета.\n",
    "     \n",
    " **Пример:**\n",
    " \n",
    "     x = 6, результат: 'VI'\n",
    "     \n",
    "     x = 76, результат: 'LXXVI'\n",
    " \n",
    "     x = 13 , результат: 'XIII'\n",
    "\n",
    "     x = 44 , результат: 'XLIV'\n",
    "\n",
    "     x = 3999 , результат: 'MMMCMXCIX'   \n",
    "\n"
   ]
  },
  {
   "cell_type": "code",
   "execution_count": 2,
   "metadata": {},
   "outputs": [
    {
     "name": "stdout",
     "output_type": "stream",
     "text": [
      "Roman value is: MMMDXLIX"
     ]
    }
   ],
   "source": [
    "def printRoman(number):\n",
    "    num = [1, 4, 5, 9, 10, 40, 50, 90,\n",
    "        100, 400, 500, 900, 1000]\n",
    "    sym = [\"I\", \"IV\", \"V\", \"IX\", \"X\", \"XL\",\n",
    "        \"L\", \"XC\", \"C\", \"CD\", \"D\", \"CM\", \"M\"]\n",
    "    i = 12\n",
    "      \n",
    "    while number:\n",
    "        div = number // num[i]\n",
    "        number %= num[i]\n",
    "  \n",
    "        while div:\n",
    "            print(sym[i], end = \"\")\n",
    "            div -= 1\n",
    "        i -= 1\n",
    "  \n",
    "\n",
    "\n",
    "number = 3549\n",
    "print(\"Roman value is:\", end = \" \")\n",
    "printRoman(number)"
   ]
  },
  {
   "cell_type": "markdown",
   "metadata": {},
   "source": [
    "## 3. Ленивый спекулянт\n",
    " **Дано:**  словарь банк - курс доллара (dict).\n",
    " \n",
    " **Задание:** определить банк и курс покупки валюты с наиболее привлекательным предложением.\n",
    "     \n",
    " **Пример:**\n",
    " \n",
    "     rates = {'Sberbank': 55.8, 'VTB24': 53.91}, результат: VTB24 -> 53.91 \n",
    "\n"
   ]
  },
  {
   "cell_type": "code",
   "execution_count": 24,
   "metadata": {},
   "outputs": [
    {
     "name": "stdout",
     "output_type": "stream",
     "text": [
      "результат: VTB24 -> 53.91\n"
     ]
    }
   ],
   "source": [
    "min=9999999\n",
    "rates = {\n",
    "    'Sberbank': 55.8,\n",
    "     'VTB24': 53.91,\n",
    "     'Gazprom':54.3}\n",
    "\n",
    "for course in rates.values():\n",
    "    if rates['Sberbank']>course:\n",
    "        if rates['VTB24']>course:\n",
    "            print('результат: Gazprom ->',rates['Gazprom'])\n",
    "        elif rates['VTB24']<course:\n",
    "            print('результат: VTB24 ->',rates['VTB24'])\n",
    "    elif rates['Sberbank']<course:\n",
    "        print('результат: Sberbank ->', {rates['Sberbank']})    \n",
    "        "
   ]
  },
  {
   "cell_type": "markdown",
   "metadata": {},
   "source": [
    "## 4. Вверх дном\n",
    " **Дано:** словарь ФИО - номер телефона(dict).\n",
    " \n",
    " **Задание:** получить новый словарь, инвертировав исходный, т.е. пары ключ - значение поменять местами  (значение - ключ).\n",
    "     \n",
    " **Пример:**\n",
    " \n",
    "     book = {'Petr': '546810', 'Katya': '241815'}, результат: {'546810': 'Petr', '241815': 'Katya'}\n",
    "\n"
   ]
  },
  {
   "cell_type": "code",
   "execution_count": 2,
   "metadata": {},
   "outputs": [
    {
     "name": "stdout",
     "output_type": "stream",
     "text": [
      "book = {'Petr': '546810', 'Katya': '241815'}, результат: {'546810': 'Petr', '241815': 'Katya'}\n"
     ]
    }
   ],
   "source": [
    "book = {'Petr': '546810', 'Katya': '241815'}\n",
    "book1 = {}\n",
    "for name, number in book.items():\n",
    "    book1[number]=name\n",
    "print(f'book = {book}, результат: {book1}')"
   ]
  },
  {
   "cell_type": "markdown",
   "metadata": {},
   "source": [
    "## 5. Структурируем данные\n",
    " **Дано:** 2 списка с измерениями(list).\n",
    " \n",
    " **Задание.** Ученый-спекулянт анализировал курс доллара и собрал 2 списка: один с датами (dates), а другой с курсами валют (rates). Он знает, что эти списки имеют одинаковую длину, а также что i-ый курс из списка rates соотвествует i-ой дате из списка dates.\n",
    "Друзья ученого, зная о его исследовании, часто просят его предоставить значение курса валюты на определенную дату. Так как ученый-спекулянт изучает Python, то решил составить словарь, что позволит ему быстро получать такую информацию.\n",
    "\n",
    "Формально нужно получить словарь из 2х списков, где в первом находятся ключи, а во втором значения. \n",
    " \n",
    "     \n",
    " **Пример:**\n",
    " \n",
    "     dates = ['2017-03-01', '2017-03-02'], rates = [55.7, 55.2], результат: \n",
    "             {'2017-03-01': 55.7, '2017-03-02': '55.2}\n",
    "\n"
   ]
  },
  {
   "cell_type": "code",
   "execution_count": 7,
   "metadata": {},
   "outputs": [
    {
     "name": "stdout",
     "output_type": "stream",
     "text": [
      "dates = ['2017-03-01', '2017-03-02'], rates = [55.7, 55.2], результат: \n",
      "{'2017-03-01': 55.7, '2017-03-02': 55.2}\n"
     ]
    }
   ],
   "source": [
    "dates = ['2017-03-01', '2017-03-02']\n",
    "rates = [55.7, 55.2]\n",
    "\n",
    "daterate={}\n",
    "for i in range(len(dates)):\n",
    "    daterate[dates[i]]=rates[i]\n",
    "\n",
    "print(f'dates = {dates}, rates = {rates}, результат: \\n{daterate}')"
   ]
  },
  {
   "cell_type": "markdown",
   "metadata": {},
   "source": [
    "## [Junior+] 6. Судья игры \"Крестики-нолики\"\n",
    " **Дано:** список (list) строк, где \"X\" и \"O\" - это отметки игроков и \".\" - это пустая клетка.\n",
    " \n",
    " **Задание.** \n",
    " \n",
    " Крестики-нолики - это игра для двух игроков (Х и О), которые расставляют эти знаки на 3х3 поле. Игрок, который сумел разместить три своих знака в любой горизонтали, вертикали или диагонали -- выигрывает.\n",
    "\n",
    "Но сейчас мы не будем играть в эту игру. Вы будете судить игру, и оценивать результат. Вам дан результат игры, и вы должны решить, кто победил или что это ничья. Ваша программа должна вернуть \"X\" если победил Х-игрок и \"О\" если победил О-игрок. В случае ничьи, результат должен быть \"D\".\n",
    " \n",
    "     \n",
    " **Пример:**\n",
    " \n",
    "     data = [\n",
    "        \"X.O\",\n",
    "        \"XX.\",\n",
    "        \"XOO\"\n",
    "     ]  -> \"X\"\n",
    "     \n",
    "     data = [\n",
    "        \"OO.\",\n",
    "        \"XOX\",\n",
    "        \"XOX\"\n",
    "     ]  -> \"O\"\n",
    "     \n",
    "     data = [\n",
    "        \"OOX\",\n",
    "        \"XXO\",\n",
    "        \"OXX\"\n",
    "     ]  -> \"D\"     "
   ]
  }
 ],
 "metadata": {
  "kernelspec": {
   "display_name": "Python 3.11.0 64-bit",
   "language": "python",
   "name": "python3"
  },
  "language_info": {
   "codemirror_mode": {
    "name": "ipython",
    "version": 3
   },
   "file_extension": ".py",
   "mimetype": "text/x-python",
   "name": "python",
   "nbconvert_exporter": "python",
   "pygments_lexer": "ipython3",
   "version": "3.11.0"
  },
  "vscode": {
   "interpreter": {
    "hash": "25423d7f7060fc7862a5c9f5e97399253f342c15cd22e8cf18dd2b84ee6c4cbb"
   }
  }
 },
 "nbformat": 4,
 "nbformat_minor": 4
}
